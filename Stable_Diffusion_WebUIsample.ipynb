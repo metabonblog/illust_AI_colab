{
  "nbformat": 4,
  "nbformat_minor": 0,
  "metadata": {
    "colab": {
      "provenance": [],
      "authorship_tag": "ABX9TyNKwI62uzYsSl/xgv955jtN",
      "include_colab_link": true
    },
    "kernelspec": {
      "name": "python3",
      "display_name": "Python 3"
    },
    "language_info": {
      "name": "python"
    }
  },
  "cells": [
    {
      "cell_type": "markdown",
      "metadata": {
        "id": "view-in-github",
        "colab_type": "text"
      },
      "source": [
        "<a href=\"https://colab.research.google.com/github/metabonblog/illust_AI_colab/blob/main/Stable_Diffusion_WebUIsample.ipynb\" target=\"_parent\"><img src=\"https://colab.research.google.com/assets/colab-badge.svg\" alt=\"Open In Colab\"/></a>"
      ]
    },
    {
      "cell_type": "code",
      "execution_count": null,
      "metadata": {
        "id": "C_kF4cpNILiQ"
      },
      "outputs": [],
      "source": [
        "#Stable Diffusion WebUI\n",
        "\n",
        "!git clone https://github.com/AUTOMATIC1111/stable-diffusion-webui\n",
        "%cd /content/stable-diffusion-webui\n",
        "\n",
        "#モデルデータのダウンロード。サンプルはSD2とNAIリークでない（らしい）ものをチョイス。ダウンロードに時間がかかると思う場合はいらないものは削って下さい\n",
        "!wget https://huggingface.co/stabilityai/stable-diffusion-2-1/resolve/main/v2-1_768-ema-pruned.safetensors  -O  /content/stable-diffusion-webui/models/Stable-diffusion/v2-1_768-ema-pruned.safetensors\n",
        "!wget https://huggingface.co/Aikimi/Aikimi_diffusion_base_wd-1-5_beta2/resolve/main/Aikimi_dC4.safetensors  -O  /content/stable-diffusion-webui/models/Stable-diffusion/Aikimi_dC4.safetensors\n",
        "\n",
        "#便利といわれいているeasynegative。ネガティブプロンプトの指定が簡単になります。\n",
        "!wget https://huggingface.co/datasets/gsdf/EasyNegative/resolve/main/EasyNegative.safetensors -O /content/stable-diffusion-webui/embeddings/EasyNegative.safetensors\n",
        "\n",
        "!python launch.py --share --xformers --enable-insecure-extension-access"
      ]
    }
  ]
}